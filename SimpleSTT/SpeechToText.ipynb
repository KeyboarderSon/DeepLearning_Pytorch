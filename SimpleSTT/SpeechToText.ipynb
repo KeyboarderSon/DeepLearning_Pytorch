{
  "nbformat": 4,
  "nbformat_minor": 0,
  "metadata": {
    "colab": {
      "name": "SpeechToText.ipynb",
      "provenance": [],
      "collapsed_sections": [],
      "toc_visible": true,
      "mount_file_id": "1mEpcMq9bAjM8i1UV1iB5qV9DIPie5DiF",
      "authorship_tag": "ABX9TyO61GeTnzbrindv5jZf2ABO",
      "include_colab_link": true
    },
    "kernelspec": {
      "display_name": "Python 3",
      "name": "python3"
    },
    "accelerator": "GPU"
  },
  "cells": [
    {
      "cell_type": "markdown",
      "metadata": {
        "id": "view-in-github",
        "colab_type": "text"
      },
      "source": [
        "<a href=\"https://colab.research.google.com/github/KeyboarderSon/TIL/blob/main/SimpleSTT/SpeechToText.ipynb\" target=\"_parent\"><img src=\"https://colab.research.google.com/assets/colab-badge.svg\" alt=\"Open In Colab\"/></a>"
      ]
    },
    {
      "cell_type": "markdown",
      "metadata": {
        "id": "F9SXxf1ySzqF"
      },
      "source": [
        "https://www.analyticsvidhya.com/blog/2019/07/learn-build-first-speech-to-text-model-python/"
      ]
    },
    {
      "cell_type": "markdown",
      "metadata": {
        "id": "l_JWb7CdS7bV"
      },
      "source": [
        "##Audio waves 전처리"
      ]
    },
    {
      "cell_type": "markdown",
      "metadata": {
        "id": "0uc-2qYr243H"
      },
      "source": [
        "앞서 살펴보았듯,\r\n",
        " 녹음본의 길이가 1초 이하고 sampling rate은 너무 높았다.<br>\r\n",
        "그래서 resampling을 해보겠다."
      ]
    },
    {
      "cell_type": "code",
      "metadata": {
        "id": "V_xuNSwoVgVE"
      },
      "source": [
        "import os\r\n",
        "import librosa   #for audio processing\r\n",
        "import IPython.display as ipd\r\n",
        "import matplotlib.pyplot as plt\r\n",
        "import numpy as np\r\n",
        "from scipy.io import wavfile #for audio processing\r\n",
        "import warnings\r\n",
        "warnings.filterwarnings(\"ignore\")"
      ],
      "execution_count": 1,
      "outputs": []
    },
    {
      "cell_type": "code",
      "metadata": {
        "colab": {
          "base_uri": "https://localhost:8080/"
        },
        "id": "M28r5k0i5Nqb",
        "outputId": "2446d756-2cec-4a65-e69b-a165f69cdaeb"
      },
      "source": [
        "from google.colab import drive\r\n",
        "ROOT=\"/content/drive\"\r\n",
        "MY_GOOGLE_DRIVE_PATH=\"MyDrive/SimpleSTT/data\"\r\n",
        "PROJECT_PATH=os.path.join(ROOT, MY_GOOGLE_DRIVE_PATH)\r\n",
        "drive.mount(ROOT)\r\n",
        "\r\n",
        "train_audio_path = PROJECT_PATH+'/train/audio'\r\n"
      ],
      "execution_count": 2,
      "outputs": [
        {
          "output_type": "stream",
          "text": [
            "Drive already mounted at /content/drive; to attempt to forcibly remount, call drive.mount(\"/content/drive\", force_remount=True).\n"
          ],
          "name": "stdout"
        }
      ]
    },
    {
      "cell_type": "code",
      "metadata": {
        "id": "eeN2R4RXA0Yw"
      },
      "source": [
        "labels=[\"yes\", \"no\", \"up\", \"down\", \"left\", \"right\", \"on\", \"off\", \"stop\", \"go\"]\r\n",
        "\r\n",
        "\r\n",
        "all_wave=[]\r\n",
        "all_label=[]\r\n"
      ],
      "execution_count": 3,
      "outputs": []
    },
    {
      "cell_type": "markdown",
      "metadata": {
        "id": "-R-g24Kk5ggu"
      },
      "source": [
        "아래 작업이 시간이 오래 걸려서 한 라벨에 대해 처리가 끝나면 npy 파일로 저장해 내보냈다."
      ]
    },
    {
      "cell_type": "code",
      "metadata": {
        "id": "Nz5g9QiZT0vz"
      },
      "source": [
        "\r\n",
        "for label in labels:\r\n",
        "  print(label)\r\n",
        "  waves=[f for f in os.listdir(train_audio_path + '/' + label) if f.endswith('.wav')]\r\n",
        "  for wav in waves:\r\n",
        "    samples, sample_rate = librosa.load(train_audio_path + '/' + label + '/' + wav, sr = 16000)\r\n",
        "    samples = librosa.resample(samples, sample_rate, 8000)\r\n",
        "    if(len(samples)==8000):\r\n",
        "      all_wave_test.append(samples)\r\n",
        "      all_label_test.append(label)\r\n",
        "\r\n",
        "\r\n",
        "  np.save(PROJECT_PATH+'/train/SaveArr/'+label,np.array(all_wave))\r\n",
        "  np.save(PROJECT_PATH+'/train/SaveArr/'+label+'_label',np.array(all_label))\r\n"
      ],
      "execution_count": 4,
      "outputs": []
    },
    {
      "cell_type": "markdown",
      "metadata": {
        "id": "ZJ65eszkeYVt"
      },
      "source": [
        " 위에서 저장했던 Array를 load한다."
      ]
    },
    {
      "cell_type": "code",
      "metadata": {
        "id": "I22T0FqNph3w"
      },
      "source": [
        "all_wave=[]\r\n",
        "all_label=[]\r\n",
        "NPY_PATH=PROJECT_PATH+'/train/SaveArr/'\r\n",
        "\r\n",
        "for label in  labels:\r\n",
        "  all_wave.extend(np.load(NPY_PATH+label+'.npy'))\r\n",
        "  all_label.extend(np.load(NPY_PATH+label+'_label.npy'))"
      ],
      "execution_count": 8,
      "outputs": []
    },
    {
      "cell_type": "markdown",
      "metadata": {
        "id": "WQrTpMzCFq_A"
      },
      "source": [
        "### categorical 데이터를 numerical로 변환하기\r\n",
        "\r\n",
        "**LabelEncoder**\r\n",
        "을 사용하면,<br>\r\n",
        "숫자형으로 리턴될 뿐만 아니라\r\n",
        "그 숫자가 어떠한 class를 나타내는지도 알 수 있다."
      ]
    },
    {
      "cell_type": "code",
      "metadata": {
        "id": "mKc-C5Ew-iWB"
      },
      "source": [
        "from sklearn.preprocessing import LabelEncoder\r\n",
        "le = LabelEncoder()\r\n",
        "y = le.fit_transform(all_label)\r\n",
        "\r\n",
        "#변환된 label classes 확인\r\n",
        "classes = list(le.classes_)\r\n"
      ],
      "execution_count": 9,
      "outputs": []
    },
    {
      "cell_type": "markdown",
      "metadata": {
        "id": "kqXVYjQnicv8"
      },
      "source": [
        "우리는 지금 **multi-classification 문제**를 다루고 있기에 interger encoded label을 one-hot vector로 변환한다."
      ]
    },
    {
      "cell_type": "code",
      "metadata": {
        "id": "jTBOV7hoHeb-"
      },
      "source": [
        "from keras.utils import np_utils\r\n",
        "y = np_utils.to_categorical(y, num_classes=len(labels))"
      ],
      "execution_count": 10,
      "outputs": []
    },
    {
      "cell_type": "markdown",
      "metadata": {
        "id": "c4wOS0xJjYw-"
      },
      "source": [
        "conv1d의 input array는 3 dimension이기 때문에 우리는 2D array를 3D array로 변환한다."
      ]
    },
    {
      "cell_type": "code",
      "metadata": {
        "id": "nsdd993rjSZ1"
      },
      "source": [
        "all_wave = np.array(all_wave).reshape(-1, 8000, 1)"
      ],
      "execution_count": 11,
      "outputs": []
    },
    {
      "cell_type": "markdown",
      "metadata": {
        "id": "esMdFqD2jtSu"
      },
      "source": [
        "train set(80%)과 validation set(20%)으로 나누기"
      ]
    },
    {
      "cell_type": "markdown",
      "metadata": {
        "id": "skpSWKMfmZs0"
      },
      "source": [
        "```\r\n",
        "stratify는 계층적 데이터 추출 옵션이다.\r\n",
        "\r\n",
        "분류 모델에서 추천!!\r\n",
        "\r\n",
        "여러 층으로 분할 후 각 층별로 랜덤 데이터를 추출한다. 원래 데이터의 분포와 유사하게 데이터를 추출한다.\r\n",
        "```"
      ]
    },
    {
      "cell_type": "code",
      "metadata": {
        "id": "SwlZ_Z70j1xv"
      },
      "source": [
        "from sklearn.model_selection import train_test_split\r\n",
        "x_tr, x_val, y_tr, y_val = train_test_split(\r\n",
        "    np.array(all_wave), np.array(y),\r\n",
        "    stratify = y, test_size = 0.2,\r\n",
        "    random_state = 777, shuffle=True\r\n",
        ")\r\n"
      ],
      "execution_count": 12,
      "outputs": []
    },
    {
      "cell_type": "markdown",
      "metadata": {
        "id": "OSNDjFPaOZEb"
      },
      "source": [
        "shape의 가장 왼쪽 숫자가 일치하는지 한번 확인해본다."
      ]
    },
    {
      "cell_type": "code",
      "metadata": {
        "colab": {
          "base_uri": "https://localhost:8080/"
        },
        "id": "MVfmZ-KdN4zU",
        "outputId": "910505fa-a87f-45f5-89e9-f0c8fff7f3cb"
      },
      "source": [
        "print(np.array(x_tr).shape, np.array(y_tr).shape)\r\n",
        "print(np.array(x_val).shape, np.array(y_val).shape)\r\n"
      ],
      "execution_count": 10,
      "outputs": [
        {
          "output_type": "stream",
          "text": [
            "(93660, 8000, 1) (93660, 10)\n",
            "(23415, 8000, 1) (23415, 10)\n"
          ],
          "name": "stdout"
        }
      ]
    },
    {
      "cell_type": "markdown",
      "metadata": {
        "id": "EQzBPlF7nUqs"
      },
      "source": [
        "## 이제 진짜 모델을 만들어보자"
      ]
    },
    {
      "cell_type": "markdown",
      "metadata": {
        "id": "wSAQtM5BK-q8"
      },
      "source": [
        "` Input `→{`Conv1D`→`Max Pooling`}(x4)→`Dense`→`Output`"
      ]
    },
    {
      "cell_type": "code",
      "metadata": {
        "colab": {
          "base_uri": "https://localhost:8080/"
        },
        "id": "tVpZ984pm_ey",
        "outputId": "404ebc04-3929-457b-fb9b-0e2fbf940ab2"
      },
      "source": [
        "from keras.layers import Dense, Dropout, Flatten, Conv1D, Input, MaxPooling1D\r\n",
        "from keras.models import Model\r\n",
        "from keras.callbacks import EarlyStopping, ModelCheckpoint\r\n",
        "from keras import backend as K\r\n",
        "K.clear_session()\r\n",
        "\r\n",
        "inputs = Input(shape=(8000, 1))\r\n",
        "\r\n",
        "#First Conv1D layer\r\n",
        "#(filter, kernel_size)\r\n",
        "#filter : 출력 차원의 수\r\n",
        "#kernel_size 합성곱이 적용되는 가로 길이\r\n",
        "conv = Conv1D(8, 13, padding=\"valid\", activation=\"relu\", strides=1)(inputs)\r\n",
        "# feature map의 크기를 줄이거나  주요한 특징을 뽑아내기 위해\r\n",
        "conv = MaxPooling1D(3)(conv)\r\n",
        "#input data의 30퍼센트의 노드들을 무작위로 0으로 만듦.\r\n",
        "conv = Dropout(0.3)(conv)\r\n",
        "\r\n",
        "conv = Conv1D(16, 11, padding='valid', activation = 'relu', strides=1)(conv)\r\n",
        "conv = MaxPooling1D(3)(conv)\r\n",
        "conv = Dropout(0.3)(conv)\r\n",
        "\r\n",
        "conv = Conv1D(32, 9, padding='valid', activation = 'relu', strides=1)(conv)\r\n",
        "conv = MaxPooling1D(3)(conv)\r\n",
        "conv = Dropout(0.3)(conv)\r\n",
        "\r\n",
        "conv = Conv1D(64, 7, padding='valid', activation = 'relu', strides=1)(conv)\r\n",
        "conv = MaxPooling1D(3)(conv)\r\n",
        "conv = Dropout(0.3)(conv)\r\n",
        "\r\n",
        "#Flatten layer\r\n",
        "conv = Flatten()(conv)\r\n",
        "\r\n",
        "conv = Dense(256, activation='relu')(conv)\r\n",
        "conv = Dropout(0.3)(conv)\r\n",
        "\r\n",
        "conv = Dense(128, activation='relu')(conv)\r\n",
        "conv = Dropout(0.3)(conv)\r\n",
        "\r\n",
        "outputs = Dense(len(labels), activation='softmax')(conv)\r\n",
        "\r\n",
        "model = Model(inputs, outputs)\r\n",
        "model.summary()\r\n"
      ],
      "execution_count": 11,
      "outputs": [
        {
          "output_type": "stream",
          "text": [
            "Model: \"model\"\n",
            "_________________________________________________________________\n",
            "Layer (type)                 Output Shape              Param #   \n",
            "=================================================================\n",
            "input_1 (InputLayer)         [(None, 8000, 1)]         0         \n",
            "_________________________________________________________________\n",
            "conv1d (Conv1D)              (None, 7988, 8)           112       \n",
            "_________________________________________________________________\n",
            "max_pooling1d (MaxPooling1D) (None, 2662, 8)           0         \n",
            "_________________________________________________________________\n",
            "dropout (Dropout)            (None, 2662, 8)           0         \n",
            "_________________________________________________________________\n",
            "conv1d_1 (Conv1D)            (None, 2652, 16)          1424      \n",
            "_________________________________________________________________\n",
            "max_pooling1d_1 (MaxPooling1 (None, 884, 16)           0         \n",
            "_________________________________________________________________\n",
            "dropout_1 (Dropout)          (None, 884, 16)           0         \n",
            "_________________________________________________________________\n",
            "conv1d_2 (Conv1D)            (None, 876, 32)           4640      \n",
            "_________________________________________________________________\n",
            "max_pooling1d_2 (MaxPooling1 (None, 292, 32)           0         \n",
            "_________________________________________________________________\n",
            "dropout_2 (Dropout)          (None, 292, 32)           0         \n",
            "_________________________________________________________________\n",
            "conv1d_3 (Conv1D)            (None, 286, 64)           14400     \n",
            "_________________________________________________________________\n",
            "max_pooling1d_3 (MaxPooling1 (None, 95, 64)            0         \n",
            "_________________________________________________________________\n",
            "dropout_3 (Dropout)          (None, 95, 64)            0         \n",
            "_________________________________________________________________\n",
            "flatten (Flatten)            (None, 6080)              0         \n",
            "_________________________________________________________________\n",
            "dense (Dense)                (None, 256)               1556736   \n",
            "_________________________________________________________________\n",
            "dropout_4 (Dropout)          (None, 256)               0         \n",
            "_________________________________________________________________\n",
            "dense_1 (Dense)              (None, 128)               32896     \n",
            "_________________________________________________________________\n",
            "dropout_5 (Dropout)          (None, 128)               0         \n",
            "_________________________________________________________________\n",
            "dense_2 (Dense)              (None, 10)                1290      \n",
            "=================================================================\n",
            "Total params: 1,611,498\n",
            "Trainable params: 1,611,498\n",
            "Non-trainable params: 0\n",
            "_________________________________________________________________\n"
          ],
          "name": "stdout"
        }
      ]
    },
    {
      "cell_type": "markdown",
      "metadata": {
        "id": "TMXkUITBYvTc"
      },
      "source": [
        "multi classification을 다루고 있기에 loss function을 categorical cross entropy로 정의한다"
      ]
    },
    {
      "cell_type": "code",
      "metadata": {
        "id": "Njn-GR_Nj7Va"
      },
      "source": [
        "model.compile(loss='categorical_crossentropy',optimizer='adam',metrics=['accuracy'])"
      ],
      "execution_count": 12,
      "outputs": []
    },
    {
      "cell_type": "markdown",
      "metadata": {
        "id": "4KhZPkh1ZzYI"
      },
      "source": [
        "Early Stopping과 model checkpoints는 매 epoch를 수행하면 best model을 저장하고 accuracy에 더이상 진전이 보이지 않으면 early stopping을 수행한다."
      ]
    },
    {
      "cell_type": "code",
      "metadata": {
        "id": "63-nEc5SmKBt"
      },
      "source": [
        "es = EarlyStopping(monitor='val_loss', mode='min', verbose=1, patience=10, min_delta=0.0001) \r\n",
        "mc = ModelCheckpoint('best_model.hdf5', monitor='val_accuracy', verbose=1, save_best_only=True, mode='max')"
      ],
      "execution_count": 13,
      "outputs": []
    },
    {
      "cell_type": "markdown",
      "metadata": {
        "id": "iCTvuwB6aQEt"
      },
      "source": [
        "batch size는 32로 지정하고 training하고 \r\n",
        "evaluate한다"
      ]
    },
    {
      "cell_type": "code",
      "metadata": {
        "colab": {
          "base_uri": "https://localhost:8080/"
        },
        "id": "6CwTs4IrmMjl",
        "outputId": "490fe654-d15f-4573-96e2-3190fa8a49dc"
      },
      "source": [
        "history=model.fit(x_tr, y_tr ,epochs=100, callbacks=[es,mc], batch_size=32, validation_data=(x_val,y_val))"
      ],
      "execution_count": 14,
      "outputs": [
        {
          "output_type": "stream",
          "text": [
            "Epoch 1/100\n",
            "2927/2927 [==============================] - 32s 8ms/step - loss: 1.5188 - accuracy: 0.4598 - val_loss: 0.5523 - val_accuracy: 0.8234\n",
            "\n",
            "Epoch 00001: val_accuracy improved from -inf to 0.82345, saving model to best_model.hdf5\n",
            "Epoch 2/100\n",
            "2927/2927 [==============================] - 24s 8ms/step - loss: 0.6143 - accuracy: 0.7987 - val_loss: 0.3778 - val_accuracy: 0.8762\n",
            "\n",
            "Epoch 00002: val_accuracy improved from 0.82345 to 0.87623, saving model to best_model.hdf5\n",
            "Epoch 3/100\n",
            "2927/2927 [==============================] - 24s 8ms/step - loss: 0.4662 - accuracy: 0.8481 - val_loss: 0.2839 - val_accuracy: 0.9080\n",
            "\n",
            "Epoch 00003: val_accuracy improved from 0.87623 to 0.90797, saving model to best_model.hdf5\n",
            "Epoch 4/100\n",
            "2927/2927 [==============================] - 24s 8ms/step - loss: 0.3993 - accuracy: 0.8714 - val_loss: 0.2665 - val_accuracy: 0.9127\n",
            "\n",
            "Epoch 00004: val_accuracy improved from 0.90797 to 0.91271, saving model to best_model.hdf5\n",
            "Epoch 5/100\n",
            "2927/2927 [==============================] - 24s 8ms/step - loss: 0.3522 - accuracy: 0.8848 - val_loss: 0.2280 - val_accuracy: 0.9243\n",
            "\n",
            "Epoch 00005: val_accuracy improved from 0.91271 to 0.92432, saving model to best_model.hdf5\n",
            "Epoch 6/100\n",
            "2927/2927 [==============================] - 24s 8ms/step - loss: 0.3187 - accuracy: 0.8946 - val_loss: 0.2232 - val_accuracy: 0.9286\n",
            "\n",
            "Epoch 00006: val_accuracy improved from 0.92432 to 0.92859, saving model to best_model.hdf5\n",
            "Epoch 7/100\n",
            "2927/2927 [==============================] - 24s 8ms/step - loss: 0.2952 - accuracy: 0.9035 - val_loss: 0.2107 - val_accuracy: 0.9307\n",
            "\n",
            "Epoch 00007: val_accuracy improved from 0.92859 to 0.93069, saving model to best_model.hdf5\n",
            "Epoch 8/100\n",
            "2927/2927 [==============================] - 25s 8ms/step - loss: 0.2810 - accuracy: 0.9082 - val_loss: 0.1680 - val_accuracy: 0.9471\n",
            "\n",
            "Epoch 00008: val_accuracy improved from 0.93069 to 0.94713, saving model to best_model.hdf5\n",
            "Epoch 9/100\n",
            "2927/2927 [==============================] - 24s 8ms/step - loss: 0.2641 - accuracy: 0.9140 - val_loss: 0.1599 - val_accuracy: 0.9514\n",
            "\n",
            "Epoch 00009: val_accuracy improved from 0.94713 to 0.95136, saving model to best_model.hdf5\n",
            "Epoch 10/100\n",
            "2927/2927 [==============================] - 24s 8ms/step - loss: 0.2515 - accuracy: 0.9171 - val_loss: 0.1560 - val_accuracy: 0.9512\n",
            "\n",
            "Epoch 00010: val_accuracy did not improve from 0.95136\n",
            "Epoch 11/100\n",
            "2927/2927 [==============================] - 24s 8ms/step - loss: 0.2405 - accuracy: 0.9213 - val_loss: 0.1719 - val_accuracy: 0.9435\n",
            "\n",
            "Epoch 00011: val_accuracy did not improve from 0.95136\n",
            "Epoch 12/100\n",
            "2927/2927 [==============================] - 24s 8ms/step - loss: 0.2257 - accuracy: 0.9273 - val_loss: 0.1483 - val_accuracy: 0.9504\n",
            "\n",
            "Epoch 00012: val_accuracy did not improve from 0.95136\n",
            "Epoch 13/100\n",
            "2927/2927 [==============================] - 24s 8ms/step - loss: 0.2247 - accuracy: 0.9290 - val_loss: 0.1195 - val_accuracy: 0.9629\n",
            "\n",
            "Epoch 00013: val_accuracy improved from 0.95136 to 0.96289, saving model to best_model.hdf5\n",
            "Epoch 14/100\n",
            "2927/2927 [==============================] - 24s 8ms/step - loss: 0.2147 - accuracy: 0.9301 - val_loss: 0.1241 - val_accuracy: 0.9608\n",
            "\n",
            "Epoch 00014: val_accuracy did not improve from 0.96289\n",
            "Epoch 15/100\n",
            "2927/2927 [==============================] - 25s 8ms/step - loss: 0.2058 - accuracy: 0.9338 - val_loss: 0.1168 - val_accuracy: 0.9624\n",
            "\n",
            "Epoch 00015: val_accuracy did not improve from 0.96289\n",
            "Epoch 16/100\n",
            "2927/2927 [==============================] - 25s 8ms/step - loss: 0.1993 - accuracy: 0.9358 - val_loss: 0.1053 - val_accuracy: 0.9679\n",
            "\n",
            "Epoch 00016: val_accuracy improved from 0.96289 to 0.96793, saving model to best_model.hdf5\n",
            "Epoch 17/100\n",
            "2927/2927 [==============================] - 24s 8ms/step - loss: 0.2035 - accuracy: 0.9349 - val_loss: 0.1096 - val_accuracy: 0.9665\n",
            "\n",
            "Epoch 00017: val_accuracy did not improve from 0.96793\n",
            "Epoch 18/100\n",
            "2927/2927 [==============================] - 25s 8ms/step - loss: 0.2001 - accuracy: 0.9367 - val_loss: 0.1186 - val_accuracy: 0.9637\n",
            "\n",
            "Epoch 00018: val_accuracy did not improve from 0.96793\n",
            "Epoch 19/100\n",
            "2927/2927 [==============================] - 25s 8ms/step - loss: 0.1885 - accuracy: 0.9384 - val_loss: 0.1050 - val_accuracy: 0.9678\n",
            "\n",
            "Epoch 00019: val_accuracy did not improve from 0.96793\n",
            "Epoch 20/100\n",
            "2927/2927 [==============================] - 25s 8ms/step - loss: 0.1822 - accuracy: 0.9408 - val_loss: 0.0975 - val_accuracy: 0.9696\n",
            "\n",
            "Epoch 00020: val_accuracy improved from 0.96793 to 0.96963, saving model to best_model.hdf5\n",
            "Epoch 21/100\n",
            "2927/2927 [==============================] - 24s 8ms/step - loss: 0.1925 - accuracy: 0.9399 - val_loss: 0.0959 - val_accuracy: 0.9705\n",
            "\n",
            "Epoch 00021: val_accuracy improved from 0.96963 to 0.97049, saving model to best_model.hdf5\n",
            "Epoch 22/100\n",
            "2927/2927 [==============================] - 25s 8ms/step - loss: 0.1774 - accuracy: 0.9424 - val_loss: 0.1015 - val_accuracy: 0.9690\n",
            "\n",
            "Epoch 00022: val_accuracy did not improve from 0.97049\n",
            "Epoch 23/100\n",
            "2927/2927 [==============================] - 25s 8ms/step - loss: 0.1838 - accuracy: 0.9423 - val_loss: 0.1009 - val_accuracy: 0.9689\n",
            "\n",
            "Epoch 00023: val_accuracy did not improve from 0.97049\n",
            "Epoch 24/100\n",
            "2927/2927 [==============================] - 25s 8ms/step - loss: 0.1684 - accuracy: 0.9462 - val_loss: 0.0915 - val_accuracy: 0.9722\n",
            "\n",
            "Epoch 00024: val_accuracy improved from 0.97049 to 0.97215, saving model to best_model.hdf5\n",
            "Epoch 25/100\n",
            "2927/2927 [==============================] - 25s 8ms/step - loss: 0.1673 - accuracy: 0.9461 - val_loss: 0.0946 - val_accuracy: 0.9702\n",
            "\n",
            "Epoch 00025: val_accuracy did not improve from 0.97215\n",
            "Epoch 26/100\n",
            "2927/2927 [==============================] - 24s 8ms/step - loss: 0.1707 - accuracy: 0.9467 - val_loss: 0.1049 - val_accuracy: 0.9694\n",
            "\n",
            "Epoch 00026: val_accuracy did not improve from 0.97215\n",
            "Epoch 27/100\n",
            "2927/2927 [==============================] - 24s 8ms/step - loss: 0.1642 - accuracy: 0.9479 - val_loss: 0.0962 - val_accuracy: 0.9707\n",
            "\n",
            "Epoch 00027: val_accuracy did not improve from 0.97215\n",
            "Epoch 28/100\n",
            "2927/2927 [==============================] - 25s 8ms/step - loss: 0.1629 - accuracy: 0.9480 - val_loss: 0.0956 - val_accuracy: 0.9704\n",
            "\n",
            "Epoch 00028: val_accuracy did not improve from 0.97215\n",
            "Epoch 29/100\n",
            "2927/2927 [==============================] - 24s 8ms/step - loss: 0.1597 - accuracy: 0.9496 - val_loss: 0.1020 - val_accuracy: 0.9698\n",
            "\n",
            "Epoch 00029: val_accuracy did not improve from 0.97215\n",
            "Epoch 30/100\n",
            "2927/2927 [==============================] - 25s 8ms/step - loss: 0.1607 - accuracy: 0.9490 - val_loss: 0.0885 - val_accuracy: 0.9722\n",
            "\n",
            "Epoch 00030: val_accuracy improved from 0.97215 to 0.97224, saving model to best_model.hdf5\n",
            "Epoch 31/100\n",
            "2927/2927 [==============================] - 24s 8ms/step - loss: 0.1601 - accuracy: 0.9499 - val_loss: 0.0921 - val_accuracy: 0.9715\n",
            "\n",
            "Epoch 00031: val_accuracy did not improve from 0.97224\n",
            "Epoch 32/100\n",
            "2927/2927 [==============================] - 24s 8ms/step - loss: 0.1557 - accuracy: 0.9512 - val_loss: 0.1053 - val_accuracy: 0.9673\n",
            "\n",
            "Epoch 00032: val_accuracy did not improve from 0.97224\n",
            "Epoch 33/100\n",
            "2927/2927 [==============================] - 25s 8ms/step - loss: 0.1587 - accuracy: 0.9505 - val_loss: 0.0877 - val_accuracy: 0.9736\n",
            "\n",
            "Epoch 00033: val_accuracy improved from 0.97224 to 0.97365, saving model to best_model.hdf5\n",
            "Epoch 34/100\n",
            "2927/2927 [==============================] - 24s 8ms/step - loss: 0.1549 - accuracy: 0.9506 - val_loss: 0.1333 - val_accuracy: 0.9568\n",
            "\n",
            "Epoch 00034: val_accuracy did not improve from 0.97365\n",
            "Epoch 35/100\n",
            "2927/2927 [==============================] - 24s 8ms/step - loss: 0.1548 - accuracy: 0.9508 - val_loss: 0.0814 - val_accuracy: 0.9749\n",
            "\n",
            "Epoch 00035: val_accuracy improved from 0.97365 to 0.97493, saving model to best_model.hdf5\n",
            "Epoch 36/100\n",
            "2927/2927 [==============================] - 24s 8ms/step - loss: 0.1547 - accuracy: 0.9519 - val_loss: 0.0823 - val_accuracy: 0.9742\n",
            "\n",
            "Epoch 00036: val_accuracy did not improve from 0.97493\n",
            "Epoch 37/100\n",
            "2927/2927 [==============================] - 24s 8ms/step - loss: 0.1485 - accuracy: 0.9542 - val_loss: 0.1015 - val_accuracy: 0.9704\n",
            "\n",
            "Epoch 00037: val_accuracy did not improve from 0.97493\n",
            "Epoch 38/100\n",
            "2927/2927 [==============================] - 24s 8ms/step - loss: 0.1475 - accuracy: 0.9541 - val_loss: 0.0835 - val_accuracy: 0.9745\n",
            "\n",
            "Epoch 00038: val_accuracy did not improve from 0.97493\n",
            "Epoch 39/100\n",
            "2927/2927 [==============================] - 24s 8ms/step - loss: 0.1555 - accuracy: 0.9509 - val_loss: 0.0736 - val_accuracy: 0.9779\n",
            "\n",
            "Epoch 00039: val_accuracy improved from 0.97493 to 0.97792, saving model to best_model.hdf5\n",
            "Epoch 40/100\n",
            "2927/2927 [==============================] - 24s 8ms/step - loss: 0.1440 - accuracy: 0.9552 - val_loss: 0.0730 - val_accuracy: 0.9779\n",
            "\n",
            "Epoch 00040: val_accuracy did not improve from 0.97792\n",
            "Epoch 41/100\n",
            "2927/2927 [==============================] - 25s 8ms/step - loss: 0.1451 - accuracy: 0.9548 - val_loss: 0.0874 - val_accuracy: 0.9732\n",
            "\n",
            "Epoch 00041: val_accuracy did not improve from 0.97792\n",
            "Epoch 42/100\n",
            "2927/2927 [==============================] - 24s 8ms/step - loss: 0.1467 - accuracy: 0.9527 - val_loss: 0.0886 - val_accuracy: 0.9745\n",
            "\n",
            "Epoch 00042: val_accuracy did not improve from 0.97792\n",
            "Epoch 43/100\n",
            "2927/2927 [==============================] - 25s 8ms/step - loss: 0.1451 - accuracy: 0.9544 - val_loss: 0.0899 - val_accuracy: 0.9723\n",
            "\n",
            "Epoch 00043: val_accuracy did not improve from 0.97792\n",
            "Epoch 44/100\n",
            "2927/2927 [==============================] - 25s 8ms/step - loss: 0.1441 - accuracy: 0.9543 - val_loss: 0.0926 - val_accuracy: 0.9724\n",
            "\n",
            "Epoch 00044: val_accuracy did not improve from 0.97792\n",
            "Epoch 45/100\n",
            "2927/2927 [==============================] - 24s 8ms/step - loss: 0.1445 - accuracy: 0.9552 - val_loss: 0.0880 - val_accuracy: 0.9728\n",
            "\n",
            "Epoch 00045: val_accuracy did not improve from 0.97792\n",
            "Epoch 46/100\n",
            "2927/2927 [==============================] - 25s 8ms/step - loss: 0.1453 - accuracy: 0.9552 - val_loss: 0.0828 - val_accuracy: 0.9752\n",
            "\n",
            "Epoch 00046: val_accuracy did not improve from 0.97792\n",
            "Epoch 47/100\n",
            "2927/2927 [==============================] - 25s 8ms/step - loss: 0.1440 - accuracy: 0.9560 - val_loss: 0.0963 - val_accuracy: 0.9698\n",
            "\n",
            "Epoch 00047: val_accuracy did not improve from 0.97792\n",
            "Epoch 48/100\n",
            "2927/2927 [==============================] - 25s 8ms/step - loss: 0.1415 - accuracy: 0.9552 - val_loss: 0.0887 - val_accuracy: 0.9731\n",
            "\n",
            "Epoch 00048: val_accuracy did not improve from 0.97792\n",
            "Epoch 49/100\n",
            "2927/2927 [==============================] - 24s 8ms/step - loss: 0.1457 - accuracy: 0.9547 - val_loss: 0.0809 - val_accuracy: 0.9760\n",
            "\n",
            "Epoch 00049: val_accuracy did not improve from 0.97792\n",
            "Epoch 50/100\n",
            "2927/2927 [==============================] - 24s 8ms/step - loss: 0.1392 - accuracy: 0.9567 - val_loss: 0.0779 - val_accuracy: 0.9766\n",
            "\n",
            "Epoch 00050: val_accuracy did not improve from 0.97792\n",
            "Epoch 00050: early stopping\n"
          ],
          "name": "stdout"
        }
      ]
    },
    {
      "cell_type": "code",
      "metadata": {
        "id": "yr_cfTlGnrBv"
      },
      "source": [
        "import json\r\n",
        "with open(PROJECT_PATH+'/train/'+'history_file.json', 'w') as f:\r\n",
        "  json.dump(history.history, f)"
      ],
      "execution_count": 16,
      "outputs": []
    },
    {
      "cell_type": "code",
      "metadata": {
        "id": "rm80oCCFn0du",
        "colab": {
          "base_uri": "https://localhost:8080/",
          "height": 265
        },
        "outputId": "c469562a-b9c6-4efa-d48e-1c7eb51920ad"
      },
      "source": [
        "import matplotlib.pyplot as plt\r\n",
        "plt.plot(history.history['loss'], label='train')\r\n",
        "plt.plot(history.history['val_loss'], label='test')\r\n",
        "plt.legend()\r\n",
        "plt.show()\r\n"
      ],
      "execution_count": 17,
      "outputs": [
        {
          "output_type": "display_data",
          "data": {
            "image/png": "[encoded data removed]",
            "text/plain": [
              "<Figure size 432x288 with 1 Axes>"
            ]
          },
          "metadata": {
            "tags": [],
            "needs_background": "light"
          }
        }
      ]
    },
    {
      "cell_type": "markdown",
      "metadata": {
        "id": "kVoVL3My6la2"
      },
      "source": [
        "best model을 다시 사용가능할 수 있도록 내보냈고 이를 다시 load했다."
      ]
    },
    {
      "cell_type": "code",
      "metadata": {
        "id": "vyVGGycQ1qWi"
      },
      "source": [
        "model.save(PROJECT_PATH+'/train/'+'my_model.h5')\r\n",
        "load_model('best_model.hdf5').save(PROJECT_PATH+'/train/'+'best_model.hdf5')"
      ],
      "execution_count": 30,
      "outputs": []
    },
    {
      "cell_type": "code",
      "metadata": {
        "id": "CvqOds0ZRYzg"
      },
      "source": [
        "from keras.models import load_model\r\n",
        "model=load_model(PROJECT_PATH+'/train/'+'best_model.hdf5')\r\n"
      ],
      "execution_count": 6,
      "outputs": []
    },
    {
      "cell_type": "markdown",
      "metadata": {
        "id": "g0yqgKok61VF"
      },
      "source": [
        "## Prediction 작업을 시작해보자\r\n",
        "\r\n",
        "audio가 주어지면 text로 예측하는 함수를 만들어보자"
      ]
    },
    {
      "cell_type": "code",
      "metadata": {
        "id": "lqh2K32xbIh6"
      },
      "source": [
        "def predict(audio):\r\n",
        "  prob=model.predict(audio.reshape(1,8000,1))\r\n",
        "  index=np.argmax(prob[0])\r\n",
        "  return classes[index]"
      ],
      "execution_count": 7,
      "outputs": []
    },
    {
      "cell_type": "markdown",
      "metadata": {
        "id": "ilkIaUig7L_f"
      },
      "source": [
        "validation data에 관하여"
      ]
    },
    {
      "cell_type": "code",
      "metadata": {
        "colab": {
          "base_uri": "https://localhost:8080/"
        },
        "id": "Q9VWvFdJy0Gp",
        "outputId": "a401a428-2687-449c-aa56-ac9ab2becddd"
      },
      "source": [
        "import random\r\n",
        "index=random.randint(0, len(x_val)-1)\r\n",
        "samples=x_val[index].ravel()\r\n",
        "print(\"Audio:\", classes[np.argmax(y_val[index])])\r\n",
        "ipd.Audio(samples, rate=8000)\r\n",
        "print(\"Text : \", predict(samples))"
      ],
      "execution_count": 13,
      "outputs": [
        {
          "output_type": "stream",
          "text": [
            "Audio: right\n",
            "Text :  right\n"
          ],
          "name": "stdout"
        }
      ]
    },
    {
      "cell_type": "markdown",
      "metadata": {
        "id": "En67NB6_vX-E"
      },
      "source": [
        "### 드디어 내 목소리로 Predict해보기"
      ]
    },
    {
      "cell_type": "markdown",
      "metadata": {
        "id": "M7UCRk4LvoG3"
      },
      "source": [
        "audacity로 1초동안 8000hz로 **down**과 **yes**를 녹음해서 wav파일로 저장했다."
      ]
    },
    {
      "cell_type": "code",
      "metadata": {
        "colab": {
          "base_uri": "https://localhost:8080/",
          "height": 35
        },
        "id": "DPVU1fB_lEmN",
        "outputId": "14a2f78f-b377-489b-faf1-0e75c6d90c12"
      },
      "source": [
        "samples, sample_rate=librosa.load(PROJECT_PATH+'/myvoice_down_1sec.wav', sr=16000)\r\n",
        "samples=librosa.resample(samples, sample_rate, 8000)\r\n",
        "ipd.Audio(samples, rate=8000)\r\n",
        "predict(samples)"
      ],
      "execution_count": 31,
      "outputs": [
        {
          "output_type": "execute_result",
          "data": {
            "application/vnd.google.colaboratory.intrinsic+json": {
              "type": "string"
            },
            "text/plain": [
              "'down'"
            ]
          },
          "metadata": {
            "tags": []
          },
          "execution_count": 31
        }
      ]
    },
    {
      "cell_type": "code",
      "metadata": {
        "colab": {
          "base_uri": "https://localhost:8080/",
          "height": 35
        },
        "id": "fpPySEhmp0nD",
        "outputId": "18ddf36e-23fa-4135-aba7-c40d3bd559a1"
      },
      "source": [
        "samples, sample_rate=librosa.load(PROJECT_PATH+'/myvoice_yes_1sec.wav', sr=8000)\r\n",
        "ipd.Audio(samples, rate=8000)\r\n",
        "predict(samples)\r\n"
      ],
      "execution_count": 44,
      "outputs": [
        {
          "output_type": "execute_result",
          "data": {
            "application/vnd.google.colaboratory.intrinsic+json": {
              "type": "string"
            },
            "text/plain": [
              "'yes'"
            ]
          },
          "metadata": {
            "tags": []
          },
          "execution_count": 44
        }
      ]
    },
    {
      "cell_type": "markdown",
      "metadata": {
        "id": "yOVlKjTnwHW8"
      },
      "source": [
        "나의 목소리를 통해서도 잘 prediction 된다!!"
      ]
    }
  ]
}