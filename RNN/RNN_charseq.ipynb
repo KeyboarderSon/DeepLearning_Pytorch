{
  "nbformat": 4,
  "nbformat_minor": 0,
  "metadata": {
    "colab": {
      "name": "RNN_charseq.ipynb",
      "provenance": [],
      "authorship_tag": "ABX9TyODsQcYnHa1FfAV5/Y+Dmha",
      "include_colab_link": true
    },
    "kernelspec": {
      "name": "python3",
      "display_name": "Python 3"
    }
  },
  "cells": [
    {
      "cell_type": "markdown",
      "metadata": {
        "id": "view-in-github",
        "colab_type": "text"
      },
      "source": [
        "<a href=\"https://colab.research.google.com/github/KeyboarderSon/DeepLearning_Pytorch/blob/main/RNN/RNN_charseq.ipynb\" target=\"_parent\"><img src=\"https://colab.research.google.com/assets/colab-badge.svg\" alt=\"Open In Colab\"/></a>"
      ]
    },
    {
      "cell_type": "code",
      "metadata": {
        "colab": {
          "base_uri": "https://localhost:8080/"
        },
        "id": "zXGQdOqumcZc",
        "outputId": "72c97bea-194b-49e6-a380-784c61352000"
      },
      "source": [
        "#https://github.com/deeplearningzerotoall/PyTorch/blob/master/RNN/3-charseq.py\n",
        "\n",
        "import numpy as np\n",
        "import torch\n",
        "import torch.nn as nn\n",
        "import torch.optim as optim\n",
        "\n",
        "torch.manual_seed(0)\n",
        "\n",
        "def make_batch():\n",
        "  input_batch = []\n",
        "  target_batch = []\n",
        "\n",
        "  input = [char_dict[c] for c in sentence[:-1]]#If you want yo(u)을 idx로 매핑\n",
        "  target = [char_dict[c] for c in sentence[1:]]#(I)f you want you를 idx로 매핑\n",
        "\n",
        "  input_batch.append(np.eye(dic_size)[input])\n",
        "  target_batch=target[:]\n",
        "\n",
        "  return input_batch, target_batch\n",
        "\n",
        "\n",
        "class RNN(nn.Module):\n",
        "  def __init__(self):\n",
        "    super(RNN, self).__init__()\n",
        "    self.rnn=nn.RNN(input_size = dic_size, hidden_size = hidden_size)\n",
        "\n",
        "  def forward(self, X):\n",
        "    output, _hidden = self.rnn(X) # output : (1, 14, 10)\n",
        "    output = output[-1] # output : (14, 10)\n",
        "    return output\n",
        "\n",
        "\n",
        "if __name__=='__main__':\n",
        "  sentence = \"If you want you\"\n",
        "\n",
        "  char_list = list(set(sentence)) # -> ['n', 'u', 'w', 'y', 'f', 'o', ' ', 'a', 'I', 't']\n",
        "  char_dict = {c: i for i, c in enumerate(char_list)}\n",
        "  num_dict = {i:c for i, c in enumerate(char_list)}# character to idx\n",
        "  \n",
        "  learning_rate=0.1\n",
        "  dic_size = len(char_dict)\n",
        "  hidden_size=len(char_dict)\n",
        "  input_batch, target_batch = make_batch()\n",
        "  X=torch.FloatTensor(input_batch)\n",
        "  Y=torch.LongTensor(target_batch)\n",
        "\n",
        "\n",
        "\n",
        "  model = RNN()\n",
        "  criterion = nn.CrossEntropyLoss()\n",
        "  optimizer = optim.Adam(model.parameters(), learning_rate)\n",
        "\n",
        "  for i in range(100):\n",
        "    optimizer.zero_grad()\n",
        "    out = model(X)\n",
        "    loss=criterion(out, Y)\n",
        "    if i%10==0:\n",
        "      print('Epoch:', '%04d' % (i + 1), 'cost =', '{:.6f}'.format(loss))\n",
        "\n",
        "    loss.backward()\n",
        "    optimizer.step()\n",
        "\n",
        "  result=out.data.numpy().argmax(axis=1)\n",
        "  result_str=''.join([num_dict[c] for c in np.squeeze(result)])\n",
        "  print(i, \"loss : \", loss.item(), \"prediction : \", result, \"true Y : \", Y, \"prediction str : \", result_str)"
      ],
      "execution_count": 43,
      "outputs": [
        {
          "output_type": "stream",
          "text": [
            "Epoch: 0001 cost = 2.274877\n",
            "Epoch: 0011 cost = 1.149675\n",
            "Epoch: 0021 cost = 0.938899\n",
            "Epoch: 0031 cost = 0.898102\n",
            "Epoch: 0041 cost = 0.886855\n",
            "Epoch: 0051 cost = 0.882131\n",
            "Epoch: 0061 cost = 0.879588\n",
            "Epoch: 0071 cost = 0.877968\n",
            "Epoch: 0081 cost = 0.876766\n",
            "Epoch: 0091 cost = 0.875796\n",
            "99 loss :  0.8750602602958679 prediction :  [0 1 5 8 2 1 5 7 9 3 1 5 8 2] true Y :  tensor([0, 1, 5, 8, 2, 1, 4, 7, 9, 3, 1, 5, 8, 2]) prediction str :  f you yant you\n"
          ],
          "name": "stdout"
        }
      ]
    }
  ]
}