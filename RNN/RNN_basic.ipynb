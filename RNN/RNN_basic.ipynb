{
  "nbformat": 4,
  "nbformat_minor": 0,
  "metadata": {
    "colab": {
      "name": "RNN_basic.ipynb",
      "provenance": [],
      "authorship_tag": "ABX9TyOfctKEHhPUSR3p1+XgR8bq"
    },
    "kernelspec": {
      "name": "python3",
      "display_name": "Python 3"
    }
  },
  "cells": [
    {
      "cell_type": "code",
      "metadata": {
        "colab": {
          "base_uri": "https://localhost:8080/"
        },
        "id": "qIVfK11iffih",
        "outputId": "013391e6-d39f-4028-8299-e19aa1fbf78f"
      },
      "source": [
        "#https://github.com/deeplearningzerotoall/PyTorch/blob/master/lab-11_1_RNN_basics.ipynb\r\n",
        "\r\n",
        "import torch\r\n",
        "import numpy as np\r\n",
        "\r\n",
        "torch.manual_seed(0)\r\n",
        "\r\n",
        "input_size=4\r\n",
        "hidden_size=2\r\n",
        "\r\n",
        "#input shape : (batch size, sequential length, input size) = (3,5,4)\r\n",
        "\r\n",
        "h=[1,0,0,0]\r\n",
        "e=[0,1,0,0]\r\n",
        "l=[0,0,1,0]\r\n",
        "o=[0,0,0,1]\r\n",
        "\r\n",
        "input_data_np=np.array([[h,e,l,l,o],\r\n",
        "                        [e,o,l,l,l],\r\n",
        "                        [l,l,e,e,l]])\r\n",
        "\r\n",
        "input_data=torch.Tensor(input_data_np)\r\n",
        "\r\n",
        "\r\n",
        "\r\n",
        "rnn=torch.nn.RNN(input_size, hidden_size)\r\n",
        "\r\n",
        "outputs, _status= rnn(input_data)\r\n",
        "print(outputs)\r\n",
        "print(outputs.size())"
      ],
      "execution_count": 8,
      "outputs": [
        {
          "output_type": "stream",
          "text": [
            "tensor([[[-0.7497, -0.6135],\n",
            "         [-0.5282, -0.2473],\n",
            "         [-0.9136, -0.4269],\n",
            "         [-0.9136, -0.4269],\n",
            "         [-0.9028,  0.1180]],\n",
            "\n",
            "        [[-0.5753, -0.0070],\n",
            "         [-0.9052,  0.2597],\n",
            "         [-0.9173, -0.1989],\n",
            "         [-0.9173, -0.1989],\n",
            "         [-0.8996, -0.2725]],\n",
            "\n",
            "        [[-0.9077, -0.3205],\n",
            "         [-0.8944, -0.2902],\n",
            "         [-0.5134, -0.0288],\n",
            "         [-0.5134, -0.0288],\n",
            "         [-0.9127, -0.2222]]], grad_fn=<StackBackward>)\n",
            "torch.Size([3, 5, 2])\n"
          ],
          "name": "stdout"
        }
      ]
    }
  ]
}