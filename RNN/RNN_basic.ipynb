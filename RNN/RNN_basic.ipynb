{
  "nbformat": 4,
  "nbformat_minor": 0,
  "metadata": {
    "colab": {
      "name": "RNN_basic.ipynb",
      "provenance": [],
      "authorship_tag": "ABX9TyMWtpgwlzbr5JIq60zC+oQX",
      "include_colab_link": true
    },
    "kernelspec": {
      "name": "python3",
      "display_name": "Python 3"
    }
  },
  "cells": [
    {
      "cell_type": "markdown",
      "metadata": {
        "id": "view-in-github",
        "colab_type": "text"
      },
      "source": [
        "<a href=\"https://colab.research.google.com/github/KeyboarderSon/DeepLearning_Pytorch/blob/main/RNN/RNN_basic.ipynb\" target=\"_parent\"><img src=\"https://colab.research.google.com/assets/colab-badge.svg\" alt=\"Open In Colab\"/></a>"
      ]
    },
    {
      "cell_type": "code",
      "metadata": {
        "colab": {
          "base_uri": "https://localhost:8080/"
        },
        "id": "qIVfK11iffih",
        "outputId": "013391e6-d39f-4028-8299-e19aa1fbf78f"
      },
      "source": [
        "#https://github.com/deeplearningzerotoall/PyTorch/blob/master/lab-11_1_RNN_basics.ipynb\n",
        "\n",
        "import torch\n",
        "import numpy as np\n",
        "\n",
        "torch.manual_seed(0)\n",
        "\n",
        "# if not one-hot encoding but word embedding, input_size = embedding vector dimension\n",
        "input_size=4\n",
        "\n",
        "# 만약 output으로 감정을 택해야 할 시 감정의 개수가 hidden_size가 되겠다.\n",
        "hidden_size=2\n",
        "\n",
        "#input shape : (batch size, sequential length, input size) = (3,5,4)\n",
        "#output shape : (batch size, sequential length, hidden_size) = (3,5,2)\n",
        "h=[1,0,0,0]\n",
        "e=[0,1,0,0]\n",
        "l=[0,0,1,0]\n",
        "o=[0,0,0,1]\n",
        "\n",
        "# 1 batch 3 word -> batch size = 3\n",
        "input_data_np=np.array([[h,e,l,l,o],\n",
        "                        [e,o,l,l,l],\n",
        "                        [l,l,e,e,l]])\n",
        "\n",
        "input_data=torch.Tensor(input_data_np)\n",
        "\n",
        "\n",
        "\n",
        "rnn=torch.nn.RNN(input_size, hidden_size)\n",
        "\n",
        "outputs, _status= rnn(input_data)\n",
        "\n",
        "print(outputs)\n",
        "print(outputs.size())"
      ],
      "execution_count": null,
      "outputs": [
        {
          "output_type": "stream",
          "text": [
            "tensor([[[-0.7497, -0.6135],\n",
            "         [-0.5282, -0.2473],\n",
            "         [-0.9136, -0.4269],\n",
            "         [-0.9136, -0.4269],\n",
            "         [-0.9028,  0.1180]],\n",
            "\n",
            "        [[-0.5753, -0.0070],\n",
            "         [-0.9052,  0.2597],\n",
            "         [-0.9173, -0.1989],\n",
            "         [-0.9173, -0.1989],\n",
            "         [-0.8996, -0.2725]],\n",
            "\n",
            "        [[-0.9077, -0.3205],\n",
            "         [-0.8944, -0.2902],\n",
            "         [-0.5134, -0.0288],\n",
            "         [-0.5134, -0.0288],\n",
            "         [-0.9127, -0.2222]]], grad_fn=<StackBackward>)\n",
            "torch.Size([3, 5, 2])\n"
          ],
          "name": "stdout"
        }
      ]
    }
  ]
}