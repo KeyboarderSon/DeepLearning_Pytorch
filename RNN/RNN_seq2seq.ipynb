{
  "nbformat": 4,
  "nbformat_minor": 0,
  "metadata": {
    "colab": {
      "name": "seq2seq_with_LSTM.ipynb",
      "provenance": [],
      "collapsed_sections": [],
      "authorship_tag": "ABX9TyMm3COaypBXs5jYCfMpadm5",
      "include_colab_link": true
    },
    "kernelspec": {
      "name": "python3",
      "display_name": "Python 3"
    },
    "accelerator": "GPU"
  },
  "cells": [
    {
      "cell_type": "markdown",
      "metadata": {
        "id": "view-in-github",
        "colab_type": "text"
      },
      "source": [
        "<a href=\"https://colab.research.google.com/github/KeyboarderSon/DeepLearning_Pytorch/blob/main/RNN/RNN_seq2seq.ipynb\" target=\"_parent\"><img src=\"https://colab.research.google.com/assets/colab-badge.svg\" alt=\"Open In Colab\"/></a>"
      ]
    },
    {
      "cell_type": "markdown",
      "metadata": {
        "id": "kR5AsZnJ9Xql"
      },
      "source": [
        "## 나동빈 seq2seq\n",
        "\n",
        "#### 독일어를 영어로"
      ]
    },
    {
      "cell_type": "markdown",
      "metadata": {
        "id": "4anmBpYJ9u8_"
      },
      "source": [
        "spaCy 라이브러리 : 문장의 토큰화, 태깅 등의 전처리 기능을 위한 라이브러리"
      ]
    },
    {
      "cell_type": "code",
      "metadata": {
        "id": "9k2oZK7UQ2aX"
      },
      "source": [
        "%%capture\n",
        "\n",
        "!python -m spacy download en\n",
        "!python -m spacy download de"
      ],
      "execution_count": 1,
      "outputs": []
    },
    {
      "cell_type": "code",
      "metadata": {
        "id": "c_EfmERO9rWH"
      },
      "source": [
        "import  spacy\n",
        "#영어 및 독일어 토큰화\n",
        "spacy_en= spacy.load('en')\n",
        "spacy_de= spacy.load('de')"
      ],
      "execution_count": 2,
      "outputs": []
    },
    {
      "cell_type": "code",
      "metadata": {
        "colab": {
          "base_uri": "https://localhost:8080/"
        },
        "id": "7UuSeadT9-R9",
        "outputId": "0cff17cf-d67c-457a-d411-0214f857cb2a"
      },
      "source": [
        "#간단하게 토큰화 기능 사용해보기\n",
        "tokenized = spacy_en.tokenizer(\"I am a graduate student.\")\n",
        "\n",
        "for i, token in enumerate(tokenized):\n",
        "  print(f\"인덱스 {i}: {token.text}\")"
      ],
      "execution_count": 3,
      "outputs": [
        {
          "output_type": "stream",
          "text": [
            "인덱스 0: I\n",
            "인덱스 1: am\n",
            "인덱스 2: a\n",
            "인덱스 3: graduate\n",
            "인덱스 4: student\n",
            "인덱스 5: .\n"
          ],
          "name": "stdout"
        }
      ]
    },
    {
      "cell_type": "markdown",
      "metadata": {
        "id": "fnXdt-Nf_9XS"
      },
      "source": [
        "영어 및 독일어 토큰화 함수 정의"
      ]
    },
    {
      "cell_type": "code",
      "metadata": {
        "id": "FNCFce7v-WlI",
        "colab": {
          "base_uri": "https://localhost:8080/"
        },
        "outputId": "23feb217-4708-4cef-bf08-fbc4a0833e80"
      },
      "source": [
        "def tokenize_de(text):\n",
        "  #토큰화한 뒤 각각 토큰을 리스트에 담은 뒤 reverse it - 입력 sequence의 reverse의 경우가 학습 성능 좋다고 함\n",
        "  return [token.text for token in spacy_de.tokenizer(text)][::-1]\n",
        "\n",
        "\n",
        "def tokenize_en(text):\n",
        "  return [token.text for token in spacy_en.tokenizer(text)]\n",
        "\n",
        "print(tokenize_en(\"I love you so much\"))"
      ],
      "execution_count": 4,
      "outputs": [
        {
          "output_type": "stream",
          "text": [
            "['I', 'love', 'you', 'so', 'much']\n"
          ],
          "name": "stdout"
        }
      ]
    },
    {
      "cell_type": "markdown",
      "metadata": {
        "id": "uDzf493pECmK"
      },
      "source": [
        "field 라이브러리를 이용해 각 문장에 대한 구체적인 전처리 내용을 명시<br>\n",
        "SRC 독일어 -> (TRG) 영어"
      ]
    },
    {
      "cell_type": "code",
      "metadata": {
        "colab": {
          "base_uri": "https://localhost:8080/"
        },
        "id": "XNxF3JEQxH3e",
        "outputId": "554cd3f0-2038-40c9-845d-a01aca21043c"
      },
      "source": [
        "!pip install -U torchtext==0.8.0"
      ],
      "execution_count": 5,
      "outputs": [
        {
          "output_type": "stream",
          "text": [
            "Collecting torchtext==0.8.0\n",
            "  Downloading torchtext-0.8.0-cp37-cp37m-manylinux1_x86_64.whl (6.9 MB)\n",
            "\u001b[K     |████████████████████████████████| 6.9 MB 7.5 MB/s \n",
            "\u001b[?25hRequirement already satisfied: requests in /usr/local/lib/python3.7/dist-packages (from torchtext==0.8.0) (2.23.0)\n",
            "Requirement already satisfied: numpy in /usr/local/lib/python3.7/dist-packages (from torchtext==0.8.0) (1.19.5)\n",
            "Requirement already satisfied: tqdm in /usr/local/lib/python3.7/dist-packages (from torchtext==0.8.0) (4.41.1)\n",
            "Requirement already satisfied: torch in /usr/local/lib/python3.7/dist-packages (from torchtext==0.8.0) (1.9.0+cu102)\n",
            "Requirement already satisfied: urllib3!=1.25.0,!=1.25.1,<1.26,>=1.21.1 in /usr/local/lib/python3.7/dist-packages (from requests->torchtext==0.8.0) (1.24.3)\n",
            "Requirement already satisfied: chardet<4,>=3.0.2 in /usr/local/lib/python3.7/dist-packages (from requests->torchtext==0.8.0) (3.0.4)\n",
            "Requirement already satisfied: certifi>=2017.4.17 in /usr/local/lib/python3.7/dist-packages (from requests->torchtext==0.8.0) (2021.5.30)\n",
            "Requirement already satisfied: idna<3,>=2.5 in /usr/local/lib/python3.7/dist-packages (from requests->torchtext==0.8.0) (2.10)\n",
            "Requirement already satisfied: typing-extensions in /usr/local/lib/python3.7/dist-packages (from torch->torchtext==0.8.0) (3.7.4.3)\n",
            "Installing collected packages: torchtext\n",
            "  Attempting uninstall: torchtext\n",
            "    Found existing installation: torchtext 0.10.0\n",
            "    Uninstalling torchtext-0.10.0:\n",
            "      Successfully uninstalled torchtext-0.10.0\n",
            "Successfully installed torchtext-0.8.0\n"
          ],
          "name": "stdout"
        }
      ]
    },
    {
      "cell_type": "code",
      "metadata": {
        "id": "R6oR2yE9EVy9",
        "colab": {
          "base_uri": "https://localhost:8080/"
        },
        "outputId": "269c1c74-725b-4fd5-e6d1-40893946c587"
      },
      "source": [
        "from torchtext.data import Field, BucketIterator\n",
        "SRC=Field(tokenize=tokenize_de, init_token=\"<sos>\", eos_token=\"<eos>\", lower=True)\n",
        "TRG=Field(tokenize=tokenize_en, init_token=\"<sos>\", eos_token=\"<eos>\", lower=True)"
      ],
      "execution_count": 7,
      "outputs": [
        {
          "output_type": "stream",
          "text": [
            "/usr/local/lib/python3.7/dist-packages/torchtext/data/field.py:150: UserWarning: Field class will be retired soon and moved to torchtext.legacy. Please see the most recent release notes for further information.\n",
            "  warnings.warn('{} class will be retired soon and moved to torchtext.legacy. Please see the most recent release notes for further information.'.format(self.__class__.__name__), UserWarning)\n"
          ],
          "name": "stderr"
        }
      ]
    },
    {
      "cell_type": "markdown",
      "metadata": {
        "id": "AXdTk667wY3Z"
      },
      "source": [
        "실제 번역 데이터셋 불러오기"
      ]
    },
    {
      "cell_type": "code",
      "metadata": {
        "colab": {
          "base_uri": "https://localhost:8080/"
        },
        "id": "AxJEJyeEEmEQ",
        "outputId": "8fc1e606-c22f-4c63-ad67-c74658c55c46"
      },
      "source": [
        "from torchtext.datasets import Multi30k\n",
        "\n",
        "#각 문장을 Field에 정의된 내용을 기반으로 토큰화\n",
        "train_dataset, valid_dataset, test_dataset = Multi30k.splits(exts=(\".de\", \".en\"), fields=(SRC, TRG))"
      ],
      "execution_count": 8,
      "outputs": [
        {
          "output_type": "stream",
          "text": [
            "downloading training.tar.gz\n"
          ],
          "name": "stdout"
        },
        {
          "output_type": "stream",
          "text": [
            "training.tar.gz: 100%|██████████| 1.21M/1.21M [00:01<00:00, 957kB/s]\n"
          ],
          "name": "stderr"
        },
        {
          "output_type": "stream",
          "text": [
            "downloading validation.tar.gz\n"
          ],
          "name": "stdout"
        },
        {
          "output_type": "stream",
          "text": [
            "validation.tar.gz: 100%|██████████| 46.3k/46.3k [00:00<00:00, 166kB/s]\n"
          ],
          "name": "stderr"
        },
        {
          "output_type": "stream",
          "text": [
            "downloading mmt_task1_test2016.tar.gz\n"
          ],
          "name": "stdout"
        },
        {
          "output_type": "stream",
          "text": [
            "mmt_task1_test2016.tar.gz: 100%|██████████| 66.2k/66.2k [00:00<00:00, 157kB/s]\n",
            "/usr/local/lib/python3.7/dist-packages/torchtext/data/example.py:78: UserWarning: Example class will be retired soon and moved to torchtext.legacy. Please see the most recent release notes for further information.\n",
            "  warnings.warn('Example class will be retired soon and moved to torchtext.legacy. Please see the most recent release notes for further information.', UserWarning)\n"
          ],
          "name": "stderr"
        }
      ]
    },
    {
      "cell_type": "code",
      "metadata": {
        "colab": {
          "base_uri": "https://localhost:8080/"
        },
        "id": "2jf1haRjGTcQ",
        "outputId": "2298fe73-abeb-4ec6-be6f-d858fd1e2f6a"
      },
      "source": [
        "# example\n",
        "print(f\"training dataset 크기 : {len(train_dataset.examples)}\")\n",
        "print(f\"validation dataset 크기 : {len(valid_dataset.examples)}\")\n",
        "print(f\"testing dataset 크기 : {len(test_dataset.examples)}\")"
      ],
      "execution_count": 9,
      "outputs": [
        {
          "output_type": "stream",
          "text": [
            "training dataset 크기 : 29000\n",
            "validation dataset 크기 : 1014\n",
            "testing dataset 크기 : 1000\n"
          ],
          "name": "stdout"
        }
      ]
    },
    {
      "cell_type": "code",
      "metadata": {
        "colab": {
          "base_uri": "https://localhost:8080/"
        },
        "id": "hud1e3M3HTB7",
        "outputId": "66553a2b-8409-4a48-bdf0-40ead6e06a9f"
      },
      "source": [
        "# example\n",
        "# index 30에 해당하는 하나의 문장을 출력해보자\n",
        "# 번역하려는 독일어 문장-거꾸로 되어있음\n",
        "print(vars(train_dataset.examples[30])['src'])\n",
        "# 번역 결과로서 얻고자 하는 영어 문장\n",
        "print(vars(train_dataset.examples[30])['trg'])"
      ],
      "execution_count": 10,
      "outputs": [
        {
          "output_type": "stream",
          "text": [
            "['.', 'steht', 'urinal', 'einem', 'an', 'kaffee', 'tasse', 'einer', 'mit', 'der', ',', 'mann', 'ein']\n",
            "['a', 'man', 'standing', 'at', 'a', 'urinal', 'with', 'a', 'coffee', 'cup', '.']\n"
          ],
          "name": "stdout"
        }
      ]
    },
    {
      "cell_type": "markdown",
      "metadata": {
        "id": "x97I50RA4b4C"
      },
      "source": [
        "```Field``` 객체의 ```build_vocab``` 메서드를 이용해 **영독 단어 사전**을 생성<br>\n",
        "최소 2번 이상 등장한 단어만을 선택"
      ]
    },
    {
      "cell_type": "code",
      "metadata": {
        "colab": {
          "base_uri": "https://localhost:8080/"
        },
        "id": "1cppx70oHZhG",
        "outputId": "bfaec710-e6db-4817-81cb-ef6ce6c8b3cc"
      },
      "source": [
        "#이를 입력차원으로 사용한다. 차원 수를 줄이기 위해 2번 이상 등장한 단어로 제한함\n",
        "SRC.build_vocab(train_dataset, min_freq=2)\n",
        "TRG.build_vocab(train_dataset, min_freq=2)\n",
        "\n",
        "print(f\"len(SRC): {len(SRC.vocab)}\")\n",
        "print(f\"len(TRG): {len(TRG.vocab)}\")"
      ],
      "execution_count": 12,
      "outputs": [
        {
          "output_type": "stream",
          "text": [
            "len(SRC): 7855\n",
            "len(TRG): 5893\n"
          ],
          "name": "stdout"
        }
      ]
    },
    {
      "cell_type": "markdown",
      "metadata": {
        "id": "pzHXBUnhAr4L"
      },
      "source": [
        "```SRC.vocab.stoi``` \n",
        "<br>토큰[어휘] : index"
      ]
    },
    {
      "cell_type": "code",
      "metadata": {
        "colab": {
          "base_uri": "https://localhost:8080/"
        },
        "id": "QXcz7BYT4tjc",
        "outputId": "29f68be1-2eaf-4058-c5e3-06284d281cba"
      },
      "source": [
        "print(TRG.vocab.stoi[\"abcabc\"])# 없는 단어의 경우 idx = 0\n",
        "print(TRG.vocab.stoi[TRG.pad_token])\n",
        "print(TRG.vocab.stoi[\"<sos>\"])\n",
        "print(TRG.vocab.stoi[\"<eos>\"])\n",
        "print(TRG.vocab.stoi[\"hello\"])# 실제 사전에 존재하는 단어\n",
        "print(TRG.vocab.stoi[\"world\"])"
      ],
      "execution_count": 13,
      "outputs": [
        {
          "output_type": "stream",
          "text": [
            "0\n",
            "1\n",
            "2\n",
            "3\n",
            "4112\n",
            "1752\n"
          ],
          "name": "stdout"
        }
      ]
    },
    {
      "cell_type": "markdown",
      "metadata": {
        "id": "5XJemJUX6g4J"
      },
      "source": [
        "한 문장에 포함된 단어가 연속적으로 LSTM에 입력되어야 한다. 따라서 하나의 batch에 포함된 문장들의 단어 개수가 유사하게 만들면 좋다. 이를 위해 bucketIterator을 사용한다."
      ]
    },
    {
      "cell_type": "code",
      "metadata": {
        "id": "GoFK1xBl67l5"
      },
      "source": [
        "import torch\n",
        "\n",
        "device=torch.device('cuda' if torch.cuda.is_available() else 'cpu')\n",
        "\n",
        "BATCH_SIZE=128\n",
        "\n",
        "train_iterator, valid_iterator, test_iterator=BucketIterator.splits(\n",
        "    (train_dataset, valid_dataset, test_dataset),\n",
        "    batch_size=BATCH_SIZE,\n",
        "    device=device\n",
        ")"
      ],
      "execution_count": null,
      "outputs": []
    },
    {
      "cell_type": "code",
      "metadata": {
        "colab": {
          "base_uri": "https://localhost:8080/"
        },
        "id": "ilyjKf02-jX5",
        "outputId": "31c9d38f-7c0d-4d35-d466-59ba88589a59"
      },
      "source": [
        "# 첫번째 batch에 대해서만 출력해보자\n",
        "\n",
        "for i, batch in enumerate(train_iterator):\n",
        "  # batch는 src와 trg로 이루어져 있음\n",
        "  src = batch.src\n",
        "  trg = batch.trg\n",
        "\n",
        "  print(f\"첫 번째 배치 크기 : {src.shape}\") #{num of token, batch size} 한 문장당 35개 단어로 된 128개 문장\n",
        "\n",
        "  # <sos> 2, <eos> 3, 뒷부분 나머지 padding 1\n",
        "  for i in range(src.shape[0]): # 한 batch에 있는 128개 문장 중 하나\n",
        "    print(f\"idx {i}: {src[i][0].item()}\")  \n",
        "  break\n"
      ],
      "execution_count": null,
      "outputs": [
        {
          "output_type": "stream",
          "text": [
            "첫 번째 배치 크기 : torch.Size([35, 128])\n",
            "idx 0: 2\n",
            "idx 1: 4\n",
            "idx 2: 420\n",
            "idx 3: 1583\n",
            "idx 4: 44\n",
            "idx 5: 35\n",
            "idx 6: 92\n",
            "idx 7: 33\n",
            "idx 8: 37\n",
            "idx 9: 550\n",
            "idx 10: 5\n",
            "idx 11: 3\n",
            "idx 12: 1\n",
            "idx 13: 1\n",
            "idx 14: 1\n",
            "idx 15: 1\n",
            "idx 16: 1\n",
            "idx 17: 1\n",
            "idx 18: 1\n",
            "idx 19: 1\n",
            "idx 20: 1\n",
            "idx 21: 1\n",
            "idx 22: 1\n",
            "idx 23: 1\n",
            "idx 24: 1\n",
            "idx 25: 1\n",
            "idx 26: 1\n",
            "idx 27: 1\n",
            "idx 28: 1\n",
            "idx 29: 1\n",
            "idx 30: 1\n",
            "idx 31: 1\n",
            "idx 32: 1\n",
            "idx 33: 1\n",
            "idx 34: 1\n"
          ],
          "name": "stdout"
        }
      ]
    },
    {
      "cell_type": "markdown",
      "metadata": {
        "id": "78E-nr_C_ll4"
      },
      "source": [
        "##Encoder 구조\n",
        "SRC 문장 -> context vector<br>\n",
        "\n",
        "\n",
        "LSTM의 입출력에 hidden state, cell state 사용<br>\n",
        "\n",
        "**Hyperparameter**<br>\n",
        "* input_dim : 하나의 단어에 대한 one hot encoding 차원(vocab 크기)<br>\n",
        "* embed_dim :위 input_dim에서 압축된 차원<br>\n",
        "* hidden_state<br>\n",
        "* n_layers : 현재는 lstm 2번 중첩하여 사용<br>\n",
        "* dropout_ratio : 정규화 효과를 위해 사용. 보통 0.5"
      ]
    },
    {
      "cell_type": "code",
      "metadata": {
        "id": "QZddKVCM_OqM"
      },
      "source": [
        "import torch.nn as nn\n",
        "\n",
        "class Encoder(nn.Module):\n",
        "  def __init__(self, input_dim, embed_dim, hidden_dim, n_layers, dropout_ratio):\n",
        "    super().__init__()\n",
        "\n",
        "    # 1) embedding layer : one-hot encoding을 특정 차원의 임베딩으로 매핑하는 레이어\n",
        "    self.embedding = nn.Embedding(input_dim, embed_dim)\n",
        "\n",
        "    # 2) LSTM layer\n",
        "    self.hidden_dim=hidden_dim\n",
        "    self.n_layers=n_layers\n",
        "    self.rnn=nn.LSTM(embed_dim, hidden_dim, n_layers, dropout=dropout_ratio)\n",
        "    #input이 embeding을 거쳐 들어가기에 embed_dim만 존재,\n",
        "    #return은 cell state, hidden state\n",
        "\n",
        "    # 3) dropout\n",
        "    self.dropout=nn.Dropout(dropout_ratio)\n",
        "\n",
        "  #인코더는 소스 문장을 입력으로 받아 context vector을 반환\n",
        "  def forward(self, src):# 1 batch 즉 128개의 문장이 한번에 처리되는 듯\n",
        "    # src : [num_token, batch size] 각 단어의 index 정보\n",
        "    # embedded : [num_token, batch size, embedding dim]\n",
        "    embedded = self.dropout(self.embedding(src))\n",
        "\n",
        "    # encoder에서는 output 사용되지 않음\n",
        "    # hidden state가 context vector로 사용됨\n",
        "    output, (hidden, cell) = self.rnn(embedded)\n",
        "    # output :[단어개수, batch size, hidden dim] : 현재 단어의 출력 정보\n",
        "    # hidden : [n_layer, batch size, hidden dim] : 현재까지의 모든 단어의 정보\n",
        "    # cell : [n_layer, batch size, hidden dim] : 현재 까지의 모든 단어의 정보\n",
        "\n",
        "\n",
        "    # context vector 반환\n",
        "    return hidden, cell\n"
      ],
      "execution_count": null,
      "outputs": []
    },
    {
      "cell_type": "markdown",
      "metadata": {
        "id": "qQaSAfsYLSuF"
      },
      "source": [
        "## Decoder\n",
        "\n",
        "* 주어진 context vector로 target 문장을 decoding 한다\n",
        "* lstm은 hidden state와 cell state을 반환한다"
      ]
    },
    {
      "cell_type": "code",
      "metadata": {
        "id": "qWOKIyblLJRm"
      },
      "source": [
        "class Decoder(nn.Module):\n",
        "  def __init__(self, output_dim, embed_dim, hidden_dim, n_layers, dropout_ratio):\n",
        "    super().__init__()\n",
        "\n",
        "    # 1) embedding layer\n",
        "    self.embedding=nn.embedding(output_dim, embed_dim)\n",
        "    \n",
        "    # 2) lstm layer\n",
        "    self.hidden_dim=hidden_dim\n",
        "    self.n_layers=n_layers\n",
        "    self.rnn=nn.LSTM(embed_dim, hidden_dim, n_layes, dropout=dropout_ratio)\n",
        "\n",
        "    # 3) fully connected layer\n",
        "    self.output_dim = output_dim\n",
        "    self.fc_out = nn.Linear(hidden_dim, output_dim)\n",
        "\n",
        "    # 4) dropout\n",
        "    self.dropout = nn.Dropout(dropout_ratio)\n",
        "\n",
        "  # Decoder는 \"현재까지 출력된 문장에 대한 정보\"를 input으로 받아 target 문장 반환\n",
        "  def forward(self, input, hidden, cell):\n",
        "    # input 단어의 개수는 항상 1개 input\n",
        "    # input : [단어 개수 = 1, batch size]\n",
        "    input = input.unsqueeze(0)\n",
        "\n",
        "    # embedded : [단어 개수, batch size, embedding dim]\n",
        "    embedded = self.dropout(self.embedding(input))\n",
        "\n",
        "    output, (hidden, cell) = self.rnn(embedded, (hidden, cell))\n",
        "    \n",
        "    # output :[단어개수, batch size, hidden dim] : 현재 단어의 출력 정보\n",
        "    # hidden : [n_layer, batch size, hidden dim] : 현재까지의 모든 단어의 정보\n",
        "    # cell : [n_layer, batch size, hidden dim] : 현재 까지의 모든 단어의 정보\n",
        "\n",
        "    # 단어 개수 1개이니 불필요한 차원 제거\n",
        "    # prediction : [batch size, output dim]\n",
        "    prediction = self.fc_out(output.squeeze(0))\n",
        "    \n",
        "    # [현재 출력 단어, 현재 까지의 모든 단어의 정보, 현재까지의 모든 단어의 정보]\n",
        "    return prediction, hidden, cell"
      ],
      "execution_count": null,
      "outputs": []
    },
    {
      "cell_type": "markdown",
      "metadata": {
        "id": "hOJKhpWZ51be"
      },
      "source": [
        "# Sequence to Sequence\n",
        "* Encoder : 주어진 source sequence를 context vector로. 한 번에 값을 구함\n",
        "* Decoder : 주어진 context vector을 target sequence로. 한 단어씩 넣어서 한 번씩 결과를 낸다.\n",
        "* teacher forcing : Decoder의 prediction을 한번 틀리면 error propagation이 발생하니 prediction 값이 아닌 실제 ground truth를 다음 입력으로 사용하는 기법"
      ]
    },
    {
      "cell_type": "code",
      "metadata": {
        "id": "_rVh8fcX51xt"
      },
      "source": [
        "class Seq2Seq(nn.Module):\n",
        "  def __init__(self, encoder, decoder, device):\n",
        "    super().__init__()\n",
        "\n",
        "    self.encoder = encoder\n",
        "    self.decoder = decoder\n",
        "    self.device = device\n",
        "\n",
        "  def forward(self, src, trg, teacher_forcing_ratio = 0.5):\n",
        "    hidden, cell = self.encoder(src)\n",
        "\n",
        "    # Decoder의 최종 결과를 담을 tensor 객체 만들기\n",
        "    trg_len = trg.shape[0] # 단어 개수\n",
        "    batch_size = trg.shape[1] # batch size\n",
        "    trg_vocab_size = self.decoder.output_dim # output dimension\n",
        "    outputs = torch.zeros(trg_len, batch_size, trg_vocab_size).to(self.device)\n",
        "\n",
        "    input = trg[0, :]# 첫 번째 입력은 항상 <sos> 토큰\n",
        "\n",
        "    # target 단어 개수 만큼 반복하여 Decoder에 forwarding\n",
        "    for t in range(1, trg_len):\n",
        "      output, hidden, cell = self.decoder(input, hidden, cell)\n",
        "      outputs[t] = output\n",
        "      top1 = output.argmax(1)\n",
        "\n",
        "      teacher_force = random.random() < teacher_forcing_ratio\n",
        "      input = trg[t] if teacher_force else top1\n",
        "\n",
        "    return outputs"
      ],
      "execution_count": null,
      "outputs": []
    }
  ]
}