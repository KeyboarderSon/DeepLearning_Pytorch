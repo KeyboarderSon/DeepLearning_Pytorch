{
  "nbformat": 4,
  "nbformat_minor": 0,
  "metadata": {
    "colab": {
      "name": "seq2seq_with_LSTM.ipynb",
      "provenance": [],
      "collapsed_sections": [],
      "authorship_tag": "ABX9TyMGW3otCgLVLS/mnR3n0DeA",
      "include_colab_link": true
    },
    "kernelspec": {
      "name": "python3",
      "display_name": "Python 3"
    },
    "accelerator": "GPU"
  },
  "cells": [
    {
      "cell_type": "markdown",
      "metadata": {
        "id": "view-in-github",
        "colab_type": "text"
      },
      "source": [
        "<a href=\"https://colab.research.google.com/github/KeyboarderSon/TIL/blob/main/RNN/RNN_seq2seq.ipynb\" target=\"_parent\"><img src=\"https://colab.research.google.com/assets/colab-badge.svg\" alt=\"Open In Colab\"/></a>"
      ]
    },
    {
      "cell_type": "code",
      "metadata": {
        "id": "vWpEOS2LP3vq"
      },
      "source": [
        "class Lang:\r\n",
        "  def __init__(self, name):\r\n",
        "    self.name = name\r\n",
        "    self.word2index={}\r\n",
        "    self.word2count={}\r\n",
        "    self.index2word={0:\"SOS\", 1:\"EOS\"}\r\n",
        "    self.n_words=2 # SOS , EOS"
      ],
      "execution_count": 2,
      "outputs": []
    },
    {
      "cell_type": "code",
      "metadata": {
        "id": "j2MSl4U_E4vT"
      },
      "source": [
        "# main reference\r\n",
        "# https://pytorch.org/tutorials/intermediate/seq2seq_translation_tutorial.html\r\n",
        "# https://github.com/deeplearningzerotoall/PyTorch/blob/master/RNN/6-seq2seq.py\r\n",
        "\r\n",
        "\r\n",
        "import random\r\n",
        "import torch\r\n",
        "import torch.nn as nn\r\n",
        "import torch.optim as optim\r\n",
        "\r\n",
        "torch.manual_seed(0)\r\n",
        "device = torch.device(\"cuda\" if torch.cuda.is_available() else \"cpu\")\r\n",
        "\r\n",
        "#sequence : 문장\r\n",
        "#token : 단어\r\n",
        "\r\n",
        "raw = [\"I feel hungry.\t나는 배가 고프다.\",\r\n",
        "       \"Pytorch is very easy.\t파이토치는 매우 쉽다.\",\r\n",
        "       \"Pytorch is a framework for deep learning.\t파이토치는 딥러닝을 위한 프레임워크이다.\",\r\n",
        "       \"Pytorch is very clear to use.\t파이토치는 사용하기 매우 직관적이다.\"]\r\n",
        "\r\n",
        "# Start Of Sentence, End Of Sentence\r\n",
        "SOS_token = 0\r\n",
        "EOS_token = 1\r\n",
        "\r\n",
        "\r\n",
        "# class for vocabulary related information of data\r\n",
        "class Vocab:\r\n",
        "  def __init__(self):\r\n",
        "    self.vocab2index = {\"<SOS>\": SOS_token, \"<EOS>\": EOS_token}\r\n",
        "    self.index2vocab = {SOS_token: \"<SOS>\", EOS_token: \"<EOS>\"}\r\n",
        "    self.vocab_count = {}\r\n",
        "    self.n_vocab = len(self.vocab2index)\r\n",
        "\r\n",
        "  def add_vocab(self, sentence):\r\n",
        "    for word in sentence.split(\" \"):\r\n",
        "      if word not in self.vocab2index:\r\n",
        "        self.vocab2index[word] = self.n_vocab\r\n",
        "        self.vocab_count[word] = 1\r\n",
        "        self.index2vocab[self.n_vocab] = word\r\n",
        "        self.n_vocab += 1\r\n",
        "      else:#if word in self.vocab2index\r\n",
        "        self.vocab_count[word] += 1\r\n",
        "\r\n",
        "\r\n",
        "# source text, target text 분리\r\n",
        "# 데이터가 잘 학습되도록 준비하는 전처리과정\r\n",
        "def preprocess(corpus, source_max_length, target_max_length):\r\n",
        "  print(\"reading corpus...\")\r\n",
        "  pairs = []\r\n",
        "  for line in corpus:\r\n",
        "    pairs.append([s for s in line.strip().lower().split(\"\\t\")])\r\n",
        "  print(\"Read {} sentence pairs\".format(len(pairs)))\r\n",
        "  "
      ],
      "execution_count": 3,
      "outputs": []
    },
    {
      "cell_type": "markdown",
      "metadata": {
        "id": "kR5AsZnJ9Xql"
      },
      "source": [
        "## 나동빈 seq2seq\r\n",
        "\r\n",
        "#### 독일어를 영어로"
      ]
    },
    {
      "cell_type": "markdown",
      "metadata": {
        "id": "4anmBpYJ9u8_"
      },
      "source": [
        "spaCy 라이브러리 : 문장의 토큰화, 태깅 등의 전처리 기능을 위한 라이브러리"
      ]
    },
    {
      "cell_type": "code",
      "metadata": {
        "id": "9k2oZK7UQ2aX"
      },
      "source": [
        "%%capture\r\n",
        "\r\n",
        "!python -m spacy download en\r\n",
        "!python -m spacy download de"
      ],
      "execution_count": 4,
      "outputs": []
    },
    {
      "cell_type": "code",
      "metadata": {
        "id": "c_EfmERO9rWH"
      },
      "source": [
        "import  spacy\r\n",
        "#영어 및 독일어 토큰화\r\n",
        "spacy_en= spacy.load('en')\r\n",
        "spacy_de= spacy.load('de')"
      ],
      "execution_count": 5,
      "outputs": []
    },
    {
      "cell_type": "code",
      "metadata": {
        "colab": {
          "base_uri": "https://localhost:8080/"
        },
        "id": "7UuSeadT9-R9",
        "outputId": "01368863-a423-494d-8bb4-58c1a18a9aa9"
      },
      "source": [
        "#간단하게 토큰화 기능 사용해보기\r\n",
        "tokenized = spacy_en.tokenizer(\"I am a graduate student.\")\r\n",
        "\r\n",
        "for i, token in enumerate(tokenized):\r\n",
        "  print(f\"인덱스 {i}: {token.text}\")"
      ],
      "execution_count": 6,
      "outputs": [
        {
          "output_type": "stream",
          "text": [
            "인덱스 0: I\n",
            "인덱스 1: am\n",
            "인덱스 2: a\n",
            "인덱스 3: graduate\n",
            "인덱스 4: student\n",
            "인덱스 5: .\n"
          ],
          "name": "stdout"
        }
      ]
    },
    {
      "cell_type": "markdown",
      "metadata": {
        "id": "fnXdt-Nf_9XS"
      },
      "source": [
        "영어 및 독일어 토큰화 함수 정의"
      ]
    },
    {
      "cell_type": "code",
      "metadata": {
        "id": "FNCFce7v-WlI"
      },
      "source": [
        "def tokenize_de(text):\r\n",
        "  #토큰화한 뒤 각각 토큰을 리스트에 담은 뒤 reverse it\r\n",
        "  return [token.text for token in spacy_de.tokenizer(text)][::-1]\r\n",
        "\r\n",
        "\r\n",
        "def tokenize_en(text):\r\n",
        "  return [token.text for token in spacy_en.tokenizer(text)]"
      ],
      "execution_count": 7,
      "outputs": []
    },
    {
      "cell_type": "markdown",
      "metadata": {
        "id": "uDzf493pECmK"
      },
      "source": [
        "field 라이브러리를 이용해 각 문장에 대한 구체적인 전처리 내용을 명시<br>\r\n",
        "SRC 독일어 -> (TRG) 영어"
      ]
    },
    {
      "cell_type": "code",
      "metadata": {
        "id": "R6oR2yE9EVy9"
      },
      "source": [
        "from torchtext.data import Field, BucketIterator\r\n",
        "#lower : 소문자로 처리하도록\r\n",
        "SRC=Field(tokenize=tokenize_de, init_token=\"<sos>\", eos_token=\"<eos>\", lower=True)\r\n",
        "TRG=Field(tokenize=tokenize_en, init_token=\"<sos>\", eos_token=\"<eos>\", lower=True)"
      ],
      "execution_count": 8,
      "outputs": []
    },
    {
      "cell_type": "code",
      "metadata": {
        "colab": {
          "base_uri": "https://localhost:8080/"
        },
        "id": "AxJEJyeEEmEQ",
        "outputId": "eed2d0a9-440e-45b2-c0be-21d4e290e5f3"
      },
      "source": [
        "from torchtext.datasets import Multi30k\r\n",
        "\r\n",
        "#각 문장을 Field에 정의된 내용을 기반으로 토큰화\r\n",
        "train_dataset, valid_dataset, test_dataset = Multi30k.splits(exts=(\".de\", \".en\"), fields=(SRC, TRG))"
      ],
      "execution_count": 9,
      "outputs": [
        {
          "output_type": "stream",
          "text": [
            "downloading training.tar.gz\n"
          ],
          "name": "stdout"
        },
        {
          "output_type": "stream",
          "text": [
            "training.tar.gz: 100%|██████████| 1.21M/1.21M [00:01<00:00, 611kB/s]\n"
          ],
          "name": "stderr"
        },
        {
          "output_type": "stream",
          "text": [
            "downloading validation.tar.gz\n"
          ],
          "name": "stdout"
        },
        {
          "output_type": "stream",
          "text": [
            "validation.tar.gz: 100%|██████████| 46.3k/46.3k [00:00<00:00, 174kB/s]\n"
          ],
          "name": "stderr"
        },
        {
          "output_type": "stream",
          "text": [
            "downloading mmt_task1_test2016.tar.gz\n"
          ],
          "name": "stdout"
        },
        {
          "output_type": "stream",
          "text": [
            "mmt_task1_test2016.tar.gz: 100%|██████████| 66.2k/66.2k [00:00<00:00, 166kB/s]\n"
          ],
          "name": "stderr"
        }
      ]
    },
    {
      "cell_type": "code",
      "metadata": {
        "colab": {
          "base_uri": "https://localhost:8080/"
        },
        "id": "2jf1haRjGTcQ",
        "outputId": "4d6eaeed-3cb5-4d27-f325-3e116871b3cb"
      },
      "source": [
        "print(f\"training dataset 크기 : {len(train_dataset.examples)}\")\r\n",
        "print(f\"validation dataset 크기 : {len(valid_dataset.examples)}\")\r\n",
        "print(f\"testing dataset 크기 : {len(test_dataset.examples)}\")"
      ],
      "execution_count": 10,
      "outputs": [
        {
          "output_type": "stream",
          "text": [
            "training dataset 크기 : 29000\n",
            "validation dataset 크기 : 1014\n",
            "testing dataset 크기 : 1000\n"
          ],
          "name": "stdout"
        }
      ]
    },
    {
      "cell_type": "code",
      "metadata": {
        "colab": {
          "base_uri": "https://localhost:8080/"
        },
        "id": "hud1e3M3HTB7",
        "outputId": "e0c88559-4919-4d51-9232-947709955b18"
      },
      "source": [
        "#index 30에 해당하는 하나의 문장을 출력해보자\r\n",
        "#번역하려는 독일어 문장\r\n",
        "print(vars(train_dataset.examples[30])['src'])\r\n",
        "#번역 결과로서 얻고자 하는 영어 문장\r\n",
        "print(vars(train_dataset.examples[30])['trg'])"
      ],
      "execution_count": 11,
      "outputs": [
        {
          "output_type": "stream",
          "text": [
            "['.', 'steht', 'urinal', 'einem', 'an', 'kaffee', 'tasse', 'einer', 'mit', 'der', ',', 'mann', 'ein']\n",
            "['a', 'man', 'standing', 'at', 'a', 'urinal', 'with', 'a', 'coffee', 'cup', '.']\n"
          ],
          "name": "stdout"
        }
      ]
    },
    {
      "cell_type": "markdown",
      "metadata": {
        "id": "x97I50RA4b4C"
      },
      "source": [
        "```Field``` 객체의 build_vocab 메서드를 이용해 **영독 단어 사전**을 생성<br>\r\n",
        "최소 2번 이상 등장한 단어만을 선택"
      ]
    },
    {
      "cell_type": "code",
      "metadata": {
        "colab": {
          "base_uri": "https://localhost:8080/"
        },
        "id": "1cppx70oHZhG",
        "outputId": "47814c69-7df6-44d2-dbab-dac74e12fdbe"
      },
      "source": [
        "#이를 입력차원으로 사용한다. 차원 수를 줄이기 위해 2번 이상 등장한 단어로 제한함\r\n",
        "SRC.build_vocab(train_dataset, min_freq=2)\r\n",
        "TRG.build_vocab(train_dataset, min_freq=2)\r\n",
        "\r\n",
        "print(f\"len(SRC): {len(SRC.vocab)}\")\r\n",
        "print(f\"len(TRG): {len(TRG.vocab)}\")"
      ],
      "execution_count": 12,
      "outputs": [
        {
          "output_type": "stream",
          "text": [
            "len(SRC): 7855\n",
            "len(TRG): 5893\n"
          ],
          "name": "stdout"
        }
      ]
    },
    {
      "cell_type": "markdown",
      "metadata": {
        "id": "pzHXBUnhAr4L"
      },
      "source": [
        "```SRC.vocab.stoi``` \r\n",
        "<br>토큰[어휘] : index"
      ]
    },
    {
      "cell_type": "code",
      "metadata": {
        "colab": {
          "base_uri": "https://localhost:8080/"
        },
        "id": "QXcz7BYT4tjc",
        "outputId": "e3f020f2-ae58-4b0d-c902-0d476a941f43"
      },
      "source": [
        "print(TRG.vocab.stoi[\"abcabc\"])#없는 단어 : idx 0\r\n",
        "print(TRG.vocab.stoi[TRG.pad_token])\r\n",
        "print(TRG.vocab.stoi[\"<sos>\"])\r\n",
        "print(TRG.vocab.stoi[\"<eos>\"])\r\n",
        "print(TRG.vocab.stoi[\"hello\"])\r\n",
        "print(TRG.vocab.stoi[\"world\"])"
      ],
      "execution_count": 13,
      "outputs": [
        {
          "output_type": "stream",
          "text": [
            "0\n",
            "1\n",
            "2\n",
            "3\n",
            "4112\n",
            "1752\n"
          ],
          "name": "stdout"
        }
      ]
    },
    {
      "cell_type": "markdown",
      "metadata": {
        "id": "5XJemJUX6g4J"
      },
      "source": [
        "```Field```에서 ```fix_length``` option을 사용하지 않았을 때 비숫한 길이의 문장을 하나의 batch에 할당하여 padding을 최소화 시켜준다. batch 별로 input dimension이 동일해야하므로 이러한 기능이 필요하다."
      ]
    },
    {
      "cell_type": "code",
      "metadata": {
        "id": "GoFK1xBl67l5"
      },
      "source": [
        "import torch\r\n",
        "\r\n",
        "device=torch.device('cuda' if torch.cuda.is_available() else 'cpu')\r\n",
        "\r\n",
        "BATCH_SIZE=128\r\n",
        "\r\n",
        "train_iterator, valid_iterator, test_iterator=BucketIterator.splits(\r\n",
        "    (train_dataset, valid_dataset, test_dataset),\r\n",
        "    batch_size=BATCH_SIZE,\r\n",
        "    device=device\r\n",
        ")"
      ],
      "execution_count": 14,
      "outputs": []
    },
    {
      "cell_type": "code",
      "metadata": {
        "colab": {
          "base_uri": "https://localhost:8080/"
        },
        "id": "ilyjKf02-jX5",
        "outputId": "31c9d38f-7c0d-4d35-d466-59ba88589a59"
      },
      "source": [
        "# 첫번째 배치에 대해서만\r\n",
        "\r\n",
        "for i, batch in enumerate(train_iterator):\r\n",
        "  src = batch.src\r\n",
        "  trg = batch.trg\r\n",
        "\r\n",
        "  print(f\"첫 번째 배치 크기 : {src.shape}\")\r\n",
        "\r\n",
        "  #첫번째 배치에 있는 첫번째 문장의 토큰 정보 보기\r\n",
        "  \r\n",
        "  #단어 개수가 n이면 idx 0 ~ n-1까지 주어지고 \r\n",
        "\r\n",
        "  #문장의 처음과 끝부분은 2, 3 즉 <sos>와 <eos>이며\r\n",
        "\r\n",
        "  #그 이후부터는 해당 batch에 포함되어있는 단어의 개수가 제일 많은 문장과 길이를 맞추기 위해 1로 padding이 들어감\r\n",
        "  \r\n",
        "  for i in range(src.shape[0]):\r\n",
        "    print(f\"idx {i}: {src[i][0].item()}\")\r\n",
        "  \r\n",
        "  break\r\n",
        "\r\n",
        "#[단어 개수, batch size] 현재 batch에 포함되는 단어들이 단어 개수만큼의 token으로 이뤄질 수 있도록 "
      ],
      "execution_count": 19,
      "outputs": [
        {
          "output_type": "stream",
          "text": [
            "첫 번째 배치 크기 : torch.Size([35, 128])\n",
            "idx 0: 2\n",
            "idx 1: 4\n",
            "idx 2: 420\n",
            "idx 3: 1583\n",
            "idx 4: 44\n",
            "idx 5: 35\n",
            "idx 6: 92\n",
            "idx 7: 33\n",
            "idx 8: 37\n",
            "idx 9: 550\n",
            "idx 10: 5\n",
            "idx 11: 3\n",
            "idx 12: 1\n",
            "idx 13: 1\n",
            "idx 14: 1\n",
            "idx 15: 1\n",
            "idx 16: 1\n",
            "idx 17: 1\n",
            "idx 18: 1\n",
            "idx 19: 1\n",
            "idx 20: 1\n",
            "idx 21: 1\n",
            "idx 22: 1\n",
            "idx 23: 1\n",
            "idx 24: 1\n",
            "idx 25: 1\n",
            "idx 26: 1\n",
            "idx 27: 1\n",
            "idx 28: 1\n",
            "idx 29: 1\n",
            "idx 30: 1\n",
            "idx 31: 1\n",
            "idx 32: 1\n",
            "idx 33: 1\n",
            "idx 34: 1\n"
          ],
          "name": "stdout"
        }
      ]
    },
    {
      "cell_type": "markdown",
      "metadata": {
        "id": "78E-nr_C_ll4"
      },
      "source": [
        "##Encoder 구조\r\n",
        "SRC 문장 -> context vector<br>\r\n",
        "\r\n",
        "\r\n",
        "LSTM의 return :  hidden state, cell state<br>\r\n",
        "\r\n",
        "**Hyperparameter**<br>\r\n",
        "* input_dim : 하나의 단어에 대한 one hot encoding 차원<br>\r\n",
        "* embed_dim : 임베딩(embeding) 차원(찐 input!!)<br>\r\n",
        "* hidden_state<br>\r\n",
        "* n_layers : RNN 레이어의 갯수<br>\r\n",
        "* dropout_ratio"
      ]
    },
    {
      "cell_type": "code",
      "metadata": {
        "id": "QZddKVCM_OqM"
      },
      "source": [
        "import torch.nn as nn\r\n",
        "\r\n",
        "class Encoder(nn.Module):\r\n",
        "  def __init__(self, input_dim, embed_dim, hidden_dim, n_layers, dropout_ratio):\r\n",
        "    super().__init__()\r\n",
        "\r\n",
        "    #embedding? one-hot encoding을 특정 차원의 임베딩으로 매핑하는 레이어\r\n",
        "    self.embedding = nn.Embedding(input_dim, embed_dim)\r\n",
        "\r\n",
        "    #LSTM 레이어\r\n",
        "    self.hidden_dim=hidden_dim\r\n",
        "    self.n_layers=n_layers\r\n",
        "    self.rnn=nn.LSTM(embed_dim, hidden_dim, n_layers, dropout=dropout_ratio)\r\n",
        "    #input이 embeding을 거쳐 들어가기에 embed_dim만 존재,\r\n",
        "    #return은 cell state, hidden state\r\n",
        "\r\n",
        "    #dropout\r\n",
        "    self.dropout=nn.Dropout(dropout_ratio)\r\n",
        "\r\n",
        "  #인코더는 소스 문장을 입력으로 받아 context vector을 반환\r\n",
        "  def forward(self, src):\r\n",
        "    \r\n",
        "    embedded = self.dropout(self.embedding(src))\r\n",
        "    # src[단어개수, batch size] -> embedded[단어개수, batch size, embedding dim]\r\n",
        "\r\n",
        "    output, (hidden, cell) = self.rnn(embedded)\r\n",
        "    #output[단어개수, batch size, hidden dim] : 현재 단어의 출력 정보\r\n",
        "    #hidden[n_layer, batch size, hidden dim] : 현재까지의 모든 단어의 정보\r\n",
        "    #cell[n_layer, batch size, hidden dim] : 현재 까지의 모든 단어의 정보\r\n",
        "\r\n",
        "    #  *** hidden과 cell의 차이는 그럼 뭐지? ***\r\n",
        "\r\n",
        "    # context vector 반환\r\n",
        "    return hidden, cell\r\n"
      ],
      "execution_count": 16,
      "outputs": []
    },
    {
      "cell_type": "markdown",
      "metadata": {
        "id": "qQaSAfsYLSuF"
      },
      "source": [
        "### Decoder\r\n",
        "\r\n",
        "context vector을 타겟 문장으로 디코딩한다.\r\n",
        "LSTM은 hidden state와 cell state를 반환한다.\r\n",
        "\r\n",
        "Hyperparameter<br>\r\n",
        "input dim<br>\r\n",
        "embed dim<br>\r\n",
        "hidden dim<br>\r\n",
        "n layers<br>\r\n",
        "dropout ratio"
      ]
    },
    {
      "cell_type": "code",
      "metadata": {
        "id": "qWOKIyblLJRm"
      },
      "source": [
        "class Decoder(nn.Module):\r\n",
        "  def __init__(self, output_dim, embed_dim, hidden_dim, n_layers, dropout_ratio):\r\n",
        "    super().__init__()\r\n",
        "\r\n",
        "    self.embedding=nn.embedding(output_dim, embed_dim)\r\n",
        "    "
      ],
      "execution_count": 17,
      "outputs": []
    }
  ]
}